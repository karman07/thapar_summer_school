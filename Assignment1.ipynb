{
  "nbformat": 4,
  "nbformat_minor": 0,
  "metadata": {
    "colab": {
      "provenance": [],
      "authorship_tag": "ABX9TyOVtKe2G3H/T++3ZNyIz5w1",
      "include_colab_link": true
    },
    "kernelspec": {
      "name": "python3",
      "display_name": "Python 3"
    },
    "language_info": {
      "name": "python"
    }
  },
  "cells": [
    {
      "cell_type": "markdown",
      "metadata": {
        "id": "view-in-github",
        "colab_type": "text"
      },
      "source": [
        "<a href=\"https://colab.research.google.com/github/karman07/thapar_summer_school/blob/feature%2Fassignment_1/Assignment1.ipynb\" target=\"_parent\"><img src=\"https://colab.research.google.com/assets/colab-badge.svg\" alt=\"Open In Colab\"/></a>"
      ]
    },
    {
      "cell_type": "code",
      "execution_count": null,
      "metadata": {
        "colab": {
          "base_uri": "https://localhost:8080/"
        },
        "id": "JjZxsqjxET0g",
        "outputId": "a32310a5-2cc2-4349-f5bc-bbdc3f240df7"
      },
      "outputs": [
        {
          "output_type": "stream",
          "name": "stdout",
          "text": [
            "After adding 50 and 60: [11, 12, 13, 14, 50, 60]\n"
          ]
        }
      ],
      "source": [
        "# Q1 (i)\n",
        "L = [11, 12, 13, 14]\n",
        "L.extend([50, 60])\n",
        "print(\"After adding 50 and 60:\", L)"
      ]
    },
    {
      "cell_type": "code",
      "source": [
        "# Q1 (ii)\n",
        "L.remove(11)\n",
        "L.remove(13)\n",
        "print(\"After removing 11 and 13:\", L)"
      ],
      "metadata": {
        "colab": {
          "base_uri": "https://localhost:8080/"
        },
        "id": "n9vZrThnFOK5",
        "outputId": "fe695270-9426-48d6-fbb8-2d42e49a46b5"
      },
      "execution_count": null,
      "outputs": [
        {
          "output_type": "stream",
          "name": "stdout",
          "text": [
            "After removing 11 and 13: [12, 14, 50, 60]\n"
          ]
        }
      ]
    },
    {
      "cell_type": "code",
      "source": [
        "# Q1 (iii)\n",
        "L.sort()\n",
        "print(\"Sorted ascending:\", L)"
      ],
      "metadata": {
        "colab": {
          "base_uri": "https://localhost:8080/"
        },
        "id": "SfEHTf7rFQE0",
        "outputId": "935e747a-795d-42c4-e02a-255bef2644e0"
      },
      "execution_count": null,
      "outputs": [
        {
          "output_type": "stream",
          "name": "stdout",
          "text": [
            "Sorted ascending: [12, 14, 50, 60]\n"
          ]
        }
      ]
    },
    {
      "cell_type": "code",
      "source": [
        "# Q1 (iv)\n",
        "L.sort(reverse=True)\n",
        "print(\"Sorted descending:\", L)"
      ],
      "metadata": {
        "colab": {
          "base_uri": "https://localhost:8080/"
        },
        "id": "fI7bIXORFRbd",
        "outputId": "00bb3eb8-0919-42c7-d00b-ccbe96f3ae5c"
      },
      "execution_count": null,
      "outputs": [
        {
          "output_type": "stream",
          "name": "stdout",
          "text": [
            "Sorted descending: [60, 50, 14, 12]\n"
          ]
        }
      ]
    },
    {
      "cell_type": "code",
      "source": [
        "# Q1 (v)\n",
        "print(\"Is 13 in L?\", 13 in L)"
      ],
      "metadata": {
        "colab": {
          "base_uri": "https://localhost:8080/"
        },
        "id": "IX_AhSAlFTHV",
        "outputId": "bd44bf81-d2bd-469e-96af-06ceeba08846"
      },
      "execution_count": null,
      "outputs": [
        {
          "output_type": "stream",
          "name": "stdout",
          "text": [
            "Is 13 in L? False\n"
          ]
        }
      ]
    },
    {
      "cell_type": "code",
      "source": [
        "# Q1 (vi)\n",
        "print(\"Number of elements:\", len(L))"
      ],
      "metadata": {
        "colab": {
          "base_uri": "https://localhost:8080/"
        },
        "id": "tixDzsrJFVta",
        "outputId": "8579f64d-e802-435b-811c-c8336ed0ed15"
      },
      "execution_count": null,
      "outputs": [
        {
          "output_type": "stream",
          "name": "stdout",
          "text": [
            "Number of elements: 4\n"
          ]
        }
      ]
    },
    {
      "cell_type": "code",
      "source": [
        "# Q1 (vii)\n",
        "print(\"Sum of elements:\", sum(L))"
      ],
      "metadata": {
        "colab": {
          "base_uri": "https://localhost:8080/"
        },
        "id": "rqrSIfmrFX-i",
        "outputId": "79bb7511-d9f7-426f-fed6-d40b292d5a94"
      },
      "execution_count": null,
      "outputs": [
        {
          "output_type": "stream",
          "name": "stdout",
          "text": [
            "Sum of elements: 136\n"
          ]
        }
      ]
    },
    {
      "cell_type": "code",
      "source": [
        "# Q1 (viii)\n",
        "print(\"Sum of odd numbers:\", sum(x for x in L if x % 2 != 0))"
      ],
      "metadata": {
        "colab": {
          "base_uri": "https://localhost:8080/"
        },
        "id": "XvO5q575FaAj",
        "outputId": "8a2d4bd9-fd17-4474-ed51-a16111c71b0b"
      },
      "execution_count": null,
      "outputs": [
        {
          "output_type": "stream",
          "name": "stdout",
          "text": [
            "Sum of odd numbers: 0\n"
          ]
        }
      ]
    },
    {
      "cell_type": "code",
      "source": [
        "# Q1 (ix)\n",
        "print(\"Sum of even numbers:\", sum(x for x in L if x % 2 == 0))"
      ],
      "metadata": {
        "colab": {
          "base_uri": "https://localhost:8080/"
        },
        "id": "B6OWN0HJFbld",
        "outputId": "e21c43d3-e8eb-49af-e88e-cebc04f47035"
      },
      "execution_count": null,
      "outputs": [
        {
          "output_type": "stream",
          "name": "stdout",
          "text": [
            "Sum of even numbers: 136\n"
          ]
        }
      ]
    },
    {
      "cell_type": "code",
      "source": [
        "# Q1 (x)\n",
        "def is_prime(n):\n",
        "    return n > 1 and all(n % i != 0 for i in range(2, int(n**0.5)+1))\n",
        "\n",
        "print(\"Sum of prime numbers:\", sum(x for x in L if is_prime(x)))"
      ],
      "metadata": {
        "colab": {
          "base_uri": "https://localhost:8080/"
        },
        "id": "Z1d3ydQ1FdTy",
        "outputId": "165e3e6c-d087-4c28-e478-060339c97cd3"
      },
      "execution_count": null,
      "outputs": [
        {
          "output_type": "stream",
          "name": "stdout",
          "text": [
            "Sum of prime numbers: 0\n"
          ]
        }
      ]
    },
    {
      "cell_type": "code",
      "source": [
        "# Q1 (xi)\n",
        "L.clear()\n",
        "print(\"List after clearing:\", L)"
      ],
      "metadata": {
        "colab": {
          "base_uri": "https://localhost:8080/"
        },
        "id": "rtaVgj72FgPN",
        "outputId": "b440825d-ce38-460b-f93a-a442472195a3"
      },
      "execution_count": null,
      "outputs": [
        {
          "output_type": "stream",
          "name": "stdout",
          "text": [
            "List after clearing: []\n"
          ]
        }
      ]
    },
    {
      "cell_type": "code",
      "source": [
        "# Q1 (xii)\n",
        "del L"
      ],
      "metadata": {
        "id": "IGkxtp2kFiBQ"
      },
      "execution_count": null,
      "outputs": []
    },
    {
      "cell_type": "code",
      "source": [
        "# Q2 (i)\n",
        "D = {1: 5.6, 2: 7.8, 3: 6.6, 4: 8.7, 5: 7.7}\n",
        "D[8] = 8.8\n",
        "print(\"After adding key 8:\", D)"
      ],
      "metadata": {
        "colab": {
          "base_uri": "https://localhost:8080/"
        },
        "id": "5cYFmdRJFjhj",
        "outputId": "91528559-8d25-4a67-f904-2ee72c4e223d"
      },
      "execution_count": null,
      "outputs": [
        {
          "output_type": "stream",
          "name": "stdout",
          "text": [
            "After adding key 8: {1: 5.6, 2: 7.8, 3: 6.6, 4: 8.7, 5: 7.7, 8: 8.8}\n"
          ]
        }
      ]
    },
    {
      "cell_type": "code",
      "source": [
        "# Q2 (ii)\n",
        "D.pop(2, None)\n",
        "print(\"After removing key 2:\", D)"
      ],
      "metadata": {
        "colab": {
          "base_uri": "https://localhost:8080/"
        },
        "id": "IuUNAYKZFncq",
        "outputId": "d9a2b080-9819-4dff-b3aa-8e00543a93f5"
      },
      "execution_count": null,
      "outputs": [
        {
          "output_type": "stream",
          "name": "stdout",
          "text": [
            "After removing key 2: {1: 5.6, 3: 6.6, 4: 8.7, 5: 7.7, 8: 8.8}\n"
          ]
        }
      ]
    },
    {
      "cell_type": "code",
      "source": [
        "# Q2 (iii)\n",
        "print(\"Is key 6 present?\", 6 in D)"
      ],
      "metadata": {
        "colab": {
          "base_uri": "https://localhost:8080/"
        },
        "id": "1Cqq4qXaFpSk",
        "outputId": "f18535ca-85da-4af4-b87d-c3827f6f035b"
      },
      "execution_count": null,
      "outputs": [
        {
          "output_type": "stream",
          "name": "stdout",
          "text": [
            "Is key 6 present? False\n"
          ]
        }
      ]
    },
    {
      "cell_type": "code",
      "source": [
        "# Q2 (iv)\n",
        "print(\"Number of elements:\", len(D))"
      ],
      "metadata": {
        "colab": {
          "base_uri": "https://localhost:8080/"
        },
        "id": "txNCxCpYFrEH",
        "outputId": "00f75346-93b7-4ff9-91a8-cda60132e694"
      },
      "execution_count": null,
      "outputs": [
        {
          "output_type": "stream",
          "name": "stdout",
          "text": [
            "Number of elements: 5\n"
          ]
        }
      ]
    },
    {
      "cell_type": "code",
      "source": [
        "# Q2 (v)\n",
        "print(\"Sum of all values:\", sum(D.values()))"
      ],
      "metadata": {
        "colab": {
          "base_uri": "https://localhost:8080/"
        },
        "id": "J-Olds4FFso3",
        "outputId": "04f10d09-6a20-45bc-ab07-a242d9885254"
      },
      "execution_count": null,
      "outputs": [
        {
          "output_type": "stream",
          "name": "stdout",
          "text": [
            "Sum of all values: 37.4\n"
          ]
        }
      ]
    },
    {
      "cell_type": "code",
      "source": [
        "# Q2 (vi)\n",
        "D[3] = 7.1\n",
        "print(\"Updated dictionary:\", D)"
      ],
      "metadata": {
        "colab": {
          "base_uri": "https://localhost:8080/"
        },
        "id": "izpBQKc7Fugv",
        "outputId": "ac79d188-04d3-4433-9f7e-8677422b0983"
      },
      "execution_count": null,
      "outputs": [
        {
          "output_type": "stream",
          "name": "stdout",
          "text": [
            "Updated dictionary: {1: 5.6, 3: 7.1, 4: 8.7, 5: 7.7, 8: 8.8}\n"
          ]
        }
      ]
    },
    {
      "cell_type": "code",
      "source": [
        "# Q2 (vii)\n",
        "D.clear()\n",
        "print(\"Dictionary after clearing:\", D)"
      ],
      "metadata": {
        "colab": {
          "base_uri": "https://localhost:8080/"
        },
        "id": "MFCHHRejFwg3",
        "outputId": "66ec9cb5-fe86-4894-89be-fa5c38f2a9b7"
      },
      "execution_count": null,
      "outputs": [
        {
          "output_type": "stream",
          "name": "stdout",
          "text": [
            "Dictionary after clearing: {}\n"
          ]
        }
      ]
    },
    {
      "cell_type": "code",
      "source": [
        "# Q3 (i)\n",
        "S1 = {10, 20, 30, 40, 50, 60}\n",
        "S2 = {40, 50, 60, 70, 80, 90}\n",
        "S1.update([55, 66])\n",
        "print(\"S1 after adding:\", S1)"
      ],
      "metadata": {
        "colab": {
          "base_uri": "https://localhost:8080/"
        },
        "id": "iifE4QfpF11Q",
        "outputId": "aff70bcf-c81c-43a6-df1b-dfc3c6956eb0"
      },
      "execution_count": null,
      "outputs": [
        {
          "output_type": "stream",
          "name": "stdout",
          "text": [
            "S1 after adding: {50, 66, 20, 55, 40, 10, 60, 30}\n"
          ]
        }
      ]
    },
    {
      "cell_type": "code",
      "source": [
        "# Q3 (ii)\n",
        "S1.discard(10)\n",
        "S1.discard(30)\n",
        "print(\"S1 after removal:\", S1)"
      ],
      "metadata": {
        "colab": {
          "base_uri": "https://localhost:8080/"
        },
        "id": "Q45PVbgnF3xG",
        "outputId": "1d0f38d2-b515-4276-d5d4-2d5e8b0f0f63"
      },
      "execution_count": null,
      "outputs": [
        {
          "output_type": "stream",
          "name": "stdout",
          "text": [
            "S1 after removal: {50, 66, 20, 55, 40, 60}\n"
          ]
        }
      ]
    },
    {
      "cell_type": "code",
      "source": [
        "# Q3 (iii)\n",
        "print(\"Is 40 in S1?\", 40 in S1)"
      ],
      "metadata": {
        "colab": {
          "base_uri": "https://localhost:8080/"
        },
        "id": "Oe1OjshcF8MR",
        "outputId": "8fefd6eb-bcbd-453c-bf81-85a68d3e5b40"
      },
      "execution_count": null,
      "outputs": [
        {
          "output_type": "stream",
          "name": "stdout",
          "text": [
            "Is 40 in S1? True\n"
          ]
        }
      ]
    },
    {
      "cell_type": "code",
      "source": [
        "# Q3 (iv)\n",
        "print(\"Union:\", S1.union(S2))"
      ],
      "metadata": {
        "colab": {
          "base_uri": "https://localhost:8080/"
        },
        "id": "BfMNpn5MF9ny",
        "outputId": "fa3031bc-59d3-456e-b8fc-0be58f5f12de"
      },
      "execution_count": null,
      "outputs": [
        {
          "output_type": "stream",
          "name": "stdout",
          "text": [
            "Union: {66, 70, 40, 80, 50, 20, 55, 90, 60}\n"
          ]
        }
      ]
    },
    {
      "cell_type": "code",
      "source": [
        "# Q3 (v)\n",
        "print(\"Intersection:\", S1.intersection(S2))"
      ],
      "metadata": {
        "colab": {
          "base_uri": "https://localhost:8080/"
        },
        "id": "Fjsjbr4CF_EB",
        "outputId": "a2fcaa01-0c54-45e8-ef7f-ed15b0a28c4e"
      },
      "execution_count": null,
      "outputs": [
        {
          "output_type": "stream",
          "name": "stdout",
          "text": [
            "Intersection: {40, 50, 60}\n"
          ]
        }
      ]
    },
    {
      "cell_type": "code",
      "source": [
        "# Q3 (vi)\n",
        "print(\"S1 - S2:\", S1.difference(S2))"
      ],
      "metadata": {
        "colab": {
          "base_uri": "https://localhost:8080/"
        },
        "id": "QVCyobzyGBLd",
        "outputId": "8b717be7-79ef-4568-f484-4728ff5352b7"
      },
      "execution_count": null,
      "outputs": [
        {
          "output_type": "stream",
          "name": "stdout",
          "text": [
            "S1 - S2: {66, 20, 55}\n"
          ]
        }
      ]
    },
    {
      "cell_type": "code",
      "source": [
        "# Q4 (i)\n",
        "import random\n",
        "import string\n",
        "\n",
        "random_strings = [''.join(random.choices(string.ascii_letters, k=random.randint(6, 8))) for _ in range(100)]\n",
        "print(random_strings)"
      ],
      "metadata": {
        "colab": {
          "base_uri": "https://localhost:8080/"
        },
        "id": "DZWcBkTvGDB_",
        "outputId": "0d7c7b5f-a526-41fc-dd4e-674f9c8c8e43"
      },
      "execution_count": null,
      "outputs": [
        {
          "output_type": "stream",
          "name": "stdout",
          "text": [
            "['UGrhcQk', 'bbCvwW', 'LYyyPA', 'DAdPuKYz', 'USUqpDVI', 'dBQMBr', 'rZBhrX', 'PmLLzu', 'CFKOWDOB', 'jyRXKgZ', 'brAiuwec', 'yoimDLqQ', 'miLgRgdB', 'WbPoJnjw', 'KmwEdDU', 'sAouweab', 'kIBpjyXY', 'ftsNru', 'itVpeHn', 'lFjLrOV', 'GxVCyxNX', 'qnNLQKkd', 'wlJRixBW', 'PHhpchwe', 'IXivGJ', 'GlflPU', 'nerZgI', 'mbyQcB', 'fNApqq', 'GHQApYn', 'XmkYCBB', 'CYVDXGxI', 'XrGmMo', 'fOgNOaR', 'uFpAbE', 'JmRyYQ', 'KkiBGZP', 'biMqqUjc', 'tCOignj', 'VNahknS', 'akuSAi', 'bKnlGlEG', 'jtdRxxb', 'UliEpUn', 'BTIcSbG', 'pzEcca', 'LJpchEi', 'bCqLuCSM', 'qKoKrmxt', 'OKHcwZBM', 'mrVsGKa', 'FLlfzU', 'dlvUhs', 'prPHLSJE', 'JVfzLJ', 'DjJQMfG', 'DwHBZE', 'jXzyzu', 'AcNePpKD', 'ApCGMIwy', 'cnrAaxm', 'mEzBmy', 'FDHEiiYa', 'lstuxa', 'zxhbgWb', 'OPSGEZDL', 'ttjRDH', 'fONsVUy', 'dmlgvU', 'uogizrn', 'uCrGTM', 'cFzvLwt', 'UVueGH', 'xEsfIv', 'LaKrNt', 'wmghiAZ', 'RodXpkg', 'awyTlwOb', 'BBfggGB', 'hppZQOV', 'OUNoxujz', 'ZHJoftX', 'gliymy', 'GDqqmcI', 'ZxLCDCXh', 'gTLrOgx', 'kQpOFlY', 'WtlTut', 'QGmIBw', 'CdSMLx', 'QUnXFko', 'YNPMIhU', 'FcljXn', 'MmDVycF', 'jrvBbbx', 'cOfldskX', 'zSIuhk', 'TYpruTIe', 'MhQKrPW', 'gdNGXTN']\n"
          ]
        }
      ]
    },
    {
      "cell_type": "code",
      "source": [
        "# Q4 (ii)\n",
        "def is_prime(n):\n",
        "    return n > 1 and all(n % i != 0 for i in range(2, int(n**0.5)+1))\n",
        "\n",
        "primes = [i for i in range(600, 801) if is_prime(i)]\n",
        "print(primes)"
      ],
      "metadata": {
        "colab": {
          "base_uri": "https://localhost:8080/"
        },
        "id": "hELE-nVeGE8d",
        "outputId": "1b04af3a-024c-4515-f5ef-0bfa6724d674"
      },
      "execution_count": null,
      "outputs": [
        {
          "output_type": "stream",
          "name": "stdout",
          "text": [
            "[601, 607, 613, 617, 619, 631, 641, 643, 647, 653, 659, 661, 673, 677, 683, 691, 701, 709, 719, 727, 733, 739, 743, 751, 757, 761, 769, 773, 787, 797]\n"
          ]
        }
      ]
    },
    {
      "cell_type": "code",
      "source": [
        "# Q4 (ii)\n",
        "def is_prime(n):\n",
        "    return n > 1 and all(n % i != 0 for i in range(2, int(n**0.5)+1))\n",
        "\n",
        "primes = [i for i in range(600, 801) if is_prime(i)]\n",
        "print(primes)"
      ],
      "metadata": {
        "colab": {
          "base_uri": "https://localhost:8080/"
        },
        "id": "ZBIqkTq6GHb3",
        "outputId": "0c97700d-6af4-4dc7-958d-1f34a950b27f"
      },
      "execution_count": null,
      "outputs": [
        {
          "output_type": "stream",
          "name": "stdout",
          "text": [
            "[601, 607, 613, 617, 619, 631, 641, 643, 647, 653, 659, 661, 673, 677, 683, 691, 701, 709, 719, 727, 733, 739, 743, 751, 757, 761, 769, 773, 787, 797]\n"
          ]
        }
      ]
    },
    {
      "cell_type": "code",
      "source": [
        "# Q4 (iii)\n",
        "divisible = [i for i in range(100, 1001) if i % 7 == 0 and i % 9 == 0]\n",
        "print(divisible)"
      ],
      "metadata": {
        "colab": {
          "base_uri": "https://localhost:8080/"
        },
        "id": "Lvu1Mw7aGPsC",
        "outputId": "2a45d433-b9a4-45fc-fb10-68a30c5e6b10"
      },
      "execution_count": null,
      "outputs": [
        {
          "output_type": "stream",
          "name": "stdout",
          "text": [
            "[126, 189, 252, 315, 378, 441, 504, 567, 630, 693, 756, 819, 882, 945]\n"
          ]
        }
      ]
    },
    {
      "cell_type": "code",
      "source": [
        "import random\n",
        "\n",
        "list1 = random.sample(range(10, 31), 10)\n",
        "list2 = random.sample(range(10, 31), 10)\n",
        "\n",
        "print(\"List 1:\", list1)\n",
        "print(\"List 2:\", list2)\n",
        "\n",
        "# (i) Common\n",
        "print(\"Common:\", set(list1).intersection(list2))\n",
        "\n",
        "# (ii) Unique\n",
        "print(\"Unique:\", set(list1).symmetric_difference(list2))\n",
        "\n",
        "# (iii) Minimum\n",
        "print(\"Min of list1:\", min(list1), \"Min of list2:\", min(list2))\n",
        "\n",
        "# (iv) Maximum\n",
        "print(\"Max of list1:\", max(list1), \"Max of list2:\", max(list2))\n",
        "\n",
        "# (v) Sum\n",
        "print(\"Sum of both lists:\", sum(list1) + sum(list2))"
      ],
      "metadata": {
        "colab": {
          "base_uri": "https://localhost:8080/"
        },
        "id": "c64H-C19GSEM",
        "outputId": "602ff677-c4a5-42fe-c9d3-f7c7b1c0ebb1"
      },
      "execution_count": null,
      "outputs": [
        {
          "output_type": "stream",
          "name": "stdout",
          "text": [
            "List 1: [22, 19, 28, 15, 29, 12, 16, 21, 27, 17]\n",
            "List 2: [10, 11, 20, 28, 24, 21, 13, 17, 16, 22]\n",
            "Common: {16, 17, 21, 22, 28}\n",
            "Unique: {10, 11, 12, 13, 15, 19, 20, 24, 27, 29}\n",
            "Min of list1: 12 Min of list2: 10\n",
            "Max of list1: 29 Max of list2: 28\n",
            "Sum of both lists: 388\n"
          ]
        }
      ]
    },
    {
      "cell_type": "code",
      "source": [
        "nums = [random.randint(100, 900) for _ in range(100)]\n",
        "\n",
        "# (i) Odd numbers\n",
        "odds = [x for x in nums if x % 2 != 0]\n",
        "print(\"Odd numbers:\", odds)\n",
        "\n",
        "# (ii) Even numbers\n",
        "evens = [x for x in nums if x % 2 == 0]\n",
        "print(\"Even numbers:\", evens)\n",
        "\n",
        "# (iii) Prime numbers\n",
        "primes = [x for x in nums if is_prime(x)]\n",
        "print(\"Prime numbers:\", primes)"
      ],
      "metadata": {
        "colab": {
          "base_uri": "https://localhost:8080/"
        },
        "id": "cdJ3DSsqGXPp",
        "outputId": "b82b133b-6c74-44a0-facb-fbc58c5d1820"
      },
      "execution_count": null,
      "outputs": [
        {
          "output_type": "stream",
          "name": "stdout",
          "text": [
            "Odd numbers: [715, 113, 145, 797, 735, 333, 781, 599, 153, 223, 791, 199, 885, 795, 341, 431, 519, 451, 325, 549, 791, 231, 187, 607, 307, 193, 357, 519, 573, 841, 237, 447, 545, 729, 553, 185, 103, 697, 315, 429, 543, 127, 181, 613, 381, 457, 763, 235]\n",
            "Even numbers: [854, 610, 276, 570, 818, 342, 558, 188, 746, 386, 690, 460, 730, 674, 850, 678, 842, 484, 634, 488, 842, 456, 544, 734, 178, 394, 382, 510, 460, 176, 332, 610, 724, 824, 474, 604, 516, 744, 332, 838, 164, 630, 114, 268, 690, 780, 712, 490, 652, 274, 306, 706]\n",
            "Prime numbers: [113, 797, 599, 223, 199, 431, 607, 307, 193, 103, 127, 181, 613, 457]\n"
          ]
        }
      ]
    },
    {
      "cell_type": "code",
      "source": [
        "D = {1:\"One\", 2:\"Two\", 3:\"Three\", 4:\"Four\", 5:\"Five\"}\n",
        "\n",
        "with open(\"dict_output.txt\", \"w\") as f:\n",
        "    for k, v in D.items():\n",
        "        f.write(f\"{k}, {v}\\n\")\n",
        "\n",
        "print(\"Written to dict_output.txt\")"
      ],
      "metadata": {
        "colab": {
          "base_uri": "https://localhost:8080/"
        },
        "id": "-uy9riukGY52",
        "outputId": "f7f03cd1-55b5-4272-b2eb-b2e1ebfecca8"
      },
      "execution_count": null,
      "outputs": [
        {
          "output_type": "stream",
          "name": "stdout",
          "text": [
            "Written to dict_output.txt\n"
          ]
        }
      ]
    },
    {
      "cell_type": "code",
      "source": [
        "L = [\"One\", \"Two\", \"Three\", \"Four\", \"Five\"]\n",
        "\n",
        "with open(\"length_output.txt\", \"w\") as f:\n",
        "    for word in L:\n",
        "        f.write(f\"{word}, {len(word)}\\n\")\n",
        "\n",
        "print(\"Written to length_output.txt\")"
      ],
      "metadata": {
        "colab": {
          "base_uri": "https://localhost:8080/"
        },
        "id": "B61VrCG6GbZU",
        "outputId": "0fb0d50d-0c5c-4c99-a6bd-0a938fc1e556"
      },
      "execution_count": null,
      "outputs": [
        {
          "output_type": "stream",
          "name": "stdout",
          "text": [
            "Written to length_output.txt\n"
          ]
        }
      ]
    },
    {
      "cell_type": "code",
      "source": [
        "with open(\"random_strings.txt\", \"w\") as f:\n",
        "    for _ in range(100):\n",
        "        s = ''.join(random.choices(string.ascii_letters, k=random.randint(10, 15)))\n",
        "        f.write(s + \"\\n\")\n",
        "\n",
        "print(\"Written 100 random strings to random_strings.txt\")"
      ],
      "metadata": {
        "colab": {
          "base_uri": "https://localhost:8080/"
        },
        "id": "I6ge721LGde3",
        "outputId": "cdd58fbf-5ccf-4e3c-92a1-967bdd051a0d"
      },
      "execution_count": null,
      "outputs": [
        {
          "output_type": "stream",
          "name": "stdout",
          "text": [
            "Written 100 random strings to random_strings.txt\n"
          ]
        }
      ]
    },
    {
      "cell_type": "code",
      "source": [
        "with open(\"primes_600_800.txt\", \"w\") as f:\n",
        "    for num in range(600, 801):\n",
        "        if is_prime(num):\n",
        "            f.write(str(num) + \"\\n\")\n",
        "\n",
        "print(\"Written to primes_600_800.txt\")"
      ],
      "metadata": {
        "colab": {
          "base_uri": "https://localhost:8080/"
        },
        "id": "TLJ6KrY4Gft3",
        "outputId": "bcc478c8-7efb-4743-cc4f-76a812aa98c9"
      },
      "execution_count": null,
      "outputs": [
        {
          "output_type": "stream",
          "name": "stdout",
          "text": [
            "Written to primes_600_800.txt\n"
          ]
        }
      ]
    },
    {
      "cell_type": "code",
      "source": [
        "import time\n",
        "\n",
        "start = time.time()\n",
        "# Sample work\n",
        "sum([i*i for i in range(10000)])\n",
        "end = time.time()\n",
        "\n",
        "print(\"Time taken:\", end - start, \"seconds\")"
      ],
      "metadata": {
        "colab": {
          "base_uri": "https://localhost:8080/"
        },
        "id": "8V_3nBEpGhlo",
        "outputId": "64f17944-bbdc-4b34-de18-95f448266c0b"
      },
      "execution_count": null,
      "outputs": [
        {
          "output_type": "stream",
          "name": "stdout",
          "text": [
            "Time taken: 0.000972747802734375 seconds\n"
          ]
        }
      ]
    },
    {
      "cell_type": "code",
      "source": [
        "import matplotlib.pyplot as plt\n",
        "\n",
        "times = []\n",
        "sizes = [5000, 10000, 15000, 20000, 25000]\n",
        "\n",
        "for size in sizes:\n",
        "    arr = [random.randint(0, 100000) for _ in range(size)]\n",
        "    start = time.time()\n",
        "    arr.sort()\n",
        "    end = time.time()\n",
        "    times.append(end - start)\n",
        "\n",
        "plt.plot(sizes, times, marker='o')\n",
        "plt.xlabel(\"Number of elements\")\n",
        "plt.ylabel(\"Time taken (s)\")\n",
        "plt.title(\"Sorting Time Analysis\")\n",
        "plt.grid(True)\n",
        "plt.show()"
      ],
      "metadata": {
        "colab": {
          "base_uri": "https://localhost:8080/",
          "height": 472
        },
        "id": "PVXgDe1nGpZm",
        "outputId": "f03fdb7a-ae7d-4498-91b2-f663f59aca49"
      },
      "execution_count": null,
      "outputs": [
        {
          "output_type": "display_data",
          "data": {
            "text/plain": [
              "<Figure size 640x480 with 1 Axes>"
            ],
            "image/png": "[encoded data removed]"
          },
          "metadata": {}
        }
      ]
    },
    {
      "cell_type": "code",
      "source": [
        "students = {\n",
        "    \"Alice\": [78, 82, 91, 87, 85],\n",
        "    \"Bob\": [88, 72, 69, 94, 75],\n",
        "    \"Charlie\": [80, 85, 89, 90, 88]\n",
        "}\n",
        "\n",
        "averages = {name: sum(marks)/len(marks) for name, marks in students.items()}\n",
        "max_student = max(averages, key=averages.get)\n",
        "min_student = min(averages, key=averages.get)\n",
        "\n",
        "print(\"Max average:\", max_student, averages[max_student])\n",
        "print(\"Min average:\", min_student, averages[min_student])"
      ],
      "metadata": {
        "colab": {
          "base_uri": "https://localhost:8080/"
        },
        "id": "vJbKTjvzGrNw",
        "outputId": "03472d57-de24-45d0-998f-f1487f3768ad"
      },
      "execution_count": null,
      "outputs": [
        {
          "output_type": "stream",
          "name": "stdout",
          "text": [
            "Max average: Charlie 86.4\n",
            "Min average: Bob 79.6\n"
          ]
        }
      ]
    },
    {
      "cell_type": "code",
      "source": [],
      "metadata": {
        "id": "caooUqwDG-jp"
      },
      "execution_count": null,
      "outputs": []
    }
  ]
}